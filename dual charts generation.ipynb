{
 "cells": [
  {
   "cell_type": "code",
   "execution_count": 1,
   "metadata": {},
   "outputs": [],
   "source": [
    "import pandas as pd\n",
    "import numpy as np\n",
    "data = pd.read_csv('/Users/liuyang/Desktop/5050_final/cleaned_data.csv')\n",
    "data['Date'] = pd.to_datetime(data['Date']).dt.year\n",
    "pic_data = data[['Date','MinTemp','MaxTemp','Rainfall','State']]\n",
    "info = pic_data.groupby(['State', 'Date']).MinTemp.mean().unstack()\n",
    "info_max = pic_data.groupby(['State', 'Date']).MaxTemp.mean().unstack()\n",
    "info_rain = pic_data.groupby(['State', 'Date']).Rainfall.mean().unstack()\n",
    "info.reset_index(drop = False, inplace= True)\n",
    "info_max.reset_index(drop = False, inplace= True)\n",
    "info_rain.reset_index(drop = False, inplace= True)\n",
    "info_max[2007].fillna(0,inplace = True)\n",
    "info_rain[2007].fillna(0,inplace = True)\n",
    "info_max[2007].fillna(0,inplace = True)"
   ]
  },
  {
   "cell_type": "code",
   "execution_count": null,
   "metadata": {},
   "outputs": [],
   "source": [
    "# min_temp/max_temp as line charts || rainfall as bar chart\n",
    "from pyecharts import Line, Bar, Overlap, configure\n",
    "#info is min / info_max is max / info_rainfall is rainfall\n",
    "State = ['ACT','NSW', 'NT', 'QLD', 'SA', 'TAS', 'VIC', 'WA']\n",
    "for j in range(0,9):\n",
    "    attr = [\"{}\".format(i) for i in range(2007, 2018)]\n",
    "    v1 = info_max.iloc[j,1:12].values\n",
    "    v2 = info.iloc[j,1:12].values\n",
    "    v3 = info_rain.iloc[j,1:12].values\n",
    "    bar = Bar(f'State {State[j]}', width=200, height=600)\n",
    "    bar.add(\"avg_rainfall\", attr, v3, yaxis_formatter=\"mm\",label_color=['rgba(0,6,10,0.3)'])\n",
    "    line = Line(width = 30)\n",
    "    line.add(\"avg_maxTemp\", attr, v1, mark_line = ['average'], label_color= ['r'])\n",
    "    line.add(\"avg_minTemp\", attr, v2, yaxis_formatter=\"°C\")\n",
    "    overlap = Overlap()\n",
    "    # 默认不新增 x y 轴，并且 x y 轴的索引都为 0\n",
    "    overlap.add(bar)\n",
    "    # 新增一个 y 轴，此时 y 轴的数量为 2，第二个 y 轴的索引为 1（索引从 0 开始），所以设置 yaxis_index = 1\n",
    "    # 由于使用的是同一个 x 轴，所以 x 轴部分不用做出改变\n",
    "    overlap.add(line, yaxis_index=1, is_add_yaxis=True)\n",
    "    overlap.render(f'/Users/liuyang/Desktop/5050_Q1/{State[j]}.png')"
   ]
  },
  {
   "cell_type": "code",
   "execution_count": null,
   "metadata": {},
   "outputs": [],
   "source": [
    "# min_temp/max_temp as bar charts || rainfall as line chart\n",
    "from pyecharts import Line, Bar, Overlap, configure\n",
    "#info is min / info_max is max / info_rainfall is rainfall\n",
    "State = ['ACT','NSW', 'NT', 'QLD', 'SA', 'TAS', 'VIC', 'WA']\n",
    "for j in range(0,9):\n",
    "    attr = [\"{}\".format(i) for i in range(2007, 2018)]\n",
    "    v1 = info_max.iloc[j,1:12].values\n",
    "    v2 = info.iloc[j,1:12].values\n",
    "    v3 = info_rain.iloc[j,1:12].values\n",
    "    bar = Bar(f'State {State[j]}', width=200, height=600)\n",
    "    bar.add(\"avg_maxTemp\", attr, v1, label_color = ['rgba(20,0,0,0.3)'])\n",
    "    bar.add(\"avg_minTemp\", attr, v2, yaxis_formatter=\"°C\", label_color = ['rgba(20,30,30,50)'] )\n",
    "    line = Line(width = 30)\n",
    "    line.add(\"avg_rainfall\", attr, v3, mark_line = ['average'], yaxis_formatter=\"mm\",color=['r'])\n",
    "    overlap = Overlap()\n",
    "    # 默认不新增 x y 轴，并且 x y 轴的索引都为 0\n",
    "    overlap.add(bar)\n",
    "    # 新增一个 y 轴，此时 y 轴的数量为 2，第二个 y 轴的索引为 1（索引从 0 开始），所以设置 yaxis_index = 1\n",
    "    # 由于使用的是同一个 x 轴，所以 x 轴部分不用做出改变\n",
    "    overlap.add(line, yaxis_index=1, is_add_yaxis=True)\n",
    "    overlap.render(f'/Users/liuyang/Desktop/5050_Q1/{State[j]}_format1.png')"
   ]
  }
 ],
 "metadata": {
  "kernelspec": {
   "display_name": "Python 3",
   "language": "python",
   "name": "python3"
  },
  "language_info": {
   "codemirror_mode": {
    "name": "ipython",
    "version": 3
   },
   "file_extension": ".py",
   "mimetype": "text/x-python",
   "name": "python",
   "nbconvert_exporter": "python",
   "pygments_lexer": "ipython3",
   "version": "3.7.4"
  }
 },
 "nbformat": 4,
 "nbformat_minor": 2
}
