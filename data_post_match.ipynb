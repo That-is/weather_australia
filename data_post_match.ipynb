{
 "cells": [
  {
   "cell_type": "code",
   "execution_count": 92,
   "metadata": {},
   "outputs": [],
   "source": [
    "import numpy as np\n",
    "import pandas as pd\n",
    "import string"
   ]
  },
  {
   "cell_type": "code",
   "execution_count": 93,
   "metadata": {},
   "outputs": [],
   "source": [
    "weather_data = pd.read_csv('/Users/liuyang/Desktop/5050_final/WeatherData/weatherAUS.csv')\n",
    "postcode_data = pd.read_excel('/Users/liuyang/Desktop/5050_final/australian_postcodes.xlsx')\n",
    "postcode_data['Locality'] = postcode_data['Locality'].str.capitalize()\n",
    "postcode_data.drop(columns = ['ID','Postcode'], inplace = True)\n",
    "postcode_data.drop_duplicates(inplace = True)"
   ]
  },
  {
   "cell_type": "code",
   "execution_count": 94,
   "metadata": {},
   "outputs": [
    {
     "data": {
      "text/plain": [
       "2016    17508\n",
       "2014    17400\n",
       "2015    17231\n",
       "2009    16595\n",
       "2010    16419\n",
       "2013    16097\n",
       "2011    15126\n",
       "2012    15044\n",
       "2017     8466\n",
       "2008     2246\n",
       "2007       61\n",
       "Name: Date, dtype: int64"
      ]
     },
     "execution_count": 94,
     "metadata": {},
     "output_type": "execute_result"
    }
   ],
   "source": [
    "# propotion of null values\n",
    "weather_data.isnull().sum(0)/len(weather_data)\n",
    "# number of records for each year\n",
    "pd.to_datetime(weather_data['Date']).dt.year.value_counts()"
   ]
  },
  {
   "cell_type": "code",
   "execution_count": 95,
   "metadata": {},
   "outputs": [
    {
     "data": {
      "text/plain": [
       "AliceSprings        3031\n",
       "MountGambier        3030\n",
       "MelbourneAirport    3009\n",
       "PerthAirport        3009\n",
       "SydneyAirport       3005\n",
       "GoldCoast           2980\n",
       "WaggaWagga          2976\n",
       "NorfolkIsland       2964\n",
       "SalmonGums          2955\n",
       "CoffsHarbour        2953\n",
       "NorahHead           2929\n",
       "BadgerysCreek       2928\n",
       "MountGinini         2907\n",
       "PearceRAAF          2762\n",
       "Nhil                1569\n",
       "Name: Location, dtype: int64"
      ]
     },
     "execution_count": 95,
     "metadata": {},
     "output_type": "execute_result"
    }
   ],
   "source": [
    "merged_data = pd.merge(weather_data,postcode_data, left_on ='Location', right_on = 'Locality', how = 'left')\n",
    "merged_data[merged_data['State'].isna()]['Location'].value_counts()"
   ]
  },
  {
   "cell_type": "code",
   "execution_count": 96,
   "metadata": {},
   "outputs": [],
   "source": [
    "postcode_data['Locality'] = postcode_data['Locality'].map(lambda x:string.capwords(x).replace(' ',''))"
   ]
  },
  {
   "cell_type": "code",
   "execution_count": 98,
   "metadata": {},
   "outputs": [],
   "source": [
    "changed_data = pd.merge(weather_data,postcode_data, left_on ='Location', right_on = 'Locality', how = 'left')"
   ]
  },
  {
   "cell_type": "code",
   "execution_count": 110,
   "metadata": {},
   "outputs": [
    {
     "data": {
      "text/plain": [
       "SydneyAirport    3005\n",
       "GoldCoast        2980\n",
       "MountGinini      2907\n",
       "PearceRAAF       2762\n",
       "Nhil             1569\n",
       "Name: Location, dtype: int64"
      ]
     },
     "execution_count": 110,
     "metadata": {},
     "output_type": "execute_result"
    }
   ],
   "source": [
    "changed_data[changed_data['State'].isna()]['Location'].value_counts()\n"
   ]
  },
  {
   "cell_type": "code",
   "execution_count": 162,
   "metadata": {},
   "outputs": [],
   "source": [
    "#postcode_data[postcode_data['Locality'].str.contains('Nhil')]\n",
    "num_index = changed_data[changed_data['Location'] == 'SydneyAirport'].index.to_list()\n",
    "changed_data['State'].iloc[num_index] = 'NSW'\n",
    "#GoldCoast \n",
    "Gold_index = changed_data[changed_data['Location'] == 'GoldCoast'].index.to_list()\n",
    "changed_data['State'].iloc[Gold_index] = 'QLD'\n",
    "#MountGinini \n",
    "MountDinini_index = changed_data[changed_data['Location'] == 'MountGinini'].index.to_list()\n",
    "changed_data['State'].iloc[MountDinini_index] = 'NSW'\n",
    "#PearceRAAF\n",
    "PearceRAAF_index = changed_data[changed_data['Location'] == 'PearceRAAF'].index.to_list()\n",
    "changed_data['State'].iloc[PearceRAAF_index] = 'SA'\n",
    "#Nhil\n",
    "Nhil_index = changed_data[changed_data['Location'] == 'Nhil'].index.to_list()\n",
    "changed_data['State'].iloc[Nhil_index] = 'VIC'"
   ]
  },
  {
   "cell_type": "code",
   "execution_count": 154,
   "metadata": {},
   "outputs": [],
   "source": [
    "#NSW/QLD/NSW/SA/VIC\n",
    "changed_data[changed_data['Location'] == 'SydneyAirport'].State.fillna('NSW',inplace= True)"
   ]
  },
  {
   "cell_type": "code",
   "execution_count": 167,
   "metadata": {},
   "outputs": [],
   "source": [
    "changed_data.replace('Nhil','Nhill', inplace = True)"
   ]
  },
  {
   "cell_type": "code",
   "execution_count": 169,
   "metadata": {},
   "outputs": [],
   "source": [
    "changed_data.drop(columns = ['Locality','Long','Lat'],inplace = True)"
   ]
  },
  {
   "cell_type": "code",
   "execution_count": 170,
   "metadata": {},
   "outputs": [],
   "source": [
    "changed_data.to_csv('/Users/liuyang/Desktop/5050_final/WeatherData/cleaned_data.csv')"
   ]
  },
  {
   "cell_type": "code",
   "execution_count": null,
   "metadata": {},
   "outputs": [],
   "source": []
  }
 ],
 "metadata": {
  "kernelspec": {
   "display_name": "Python 3",
   "language": "python",
   "name": "python3"
  },
  "language_info": {
   "codemirror_mode": {
    "name": "ipython",
    "version": 3
   },
   "file_extension": ".py",
   "mimetype": "text/x-python",
   "name": "python",
   "nbconvert_exporter": "python",
   "pygments_lexer": "ipython3",
   "version": "3.7.4"
  }
 },
 "nbformat": 4,
 "nbformat_minor": 2
}
